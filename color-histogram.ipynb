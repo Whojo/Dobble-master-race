{
 "cells": [
  {
   "cell_type": "markdown",
   "metadata": {},
   "source": [
    "# Color quantization & first evaluation of color histogram classifier"
   ]
  },
  {
   "cell_type": "code",
   "execution_count": 1,
   "metadata": {},
   "outputs": [],
   "source": [
    "# deactivate buggy jupyter completion\n",
    "%config Completer.use_jedi = False"
   ]
  },
  {
   "cell_type": "code",
   "execution_count": 40,
   "metadata": {},
   "outputs": [],
   "source": [
    "import numpy as np\n",
    "import cv2\n",
    "import matplotlib.pyplot as plt\n",
    "%matplotlib inline\n",
    "import os\n",
    "from ipywidgets import interact\n",
    "import ipywidgets as widgets"
   ]
  },
  {
   "cell_type": "code",
   "execution_count": 3,
   "metadata": {},
   "outputs": [],
   "source": [
    "PATH_TO_RESOURCES = \"./data/train\" # Adapt to your data folder"
   ]
  },
  {
   "cell_type": "code",
   "execution_count": 4,
   "metadata": {},
   "outputs": [],
   "source": [
    "def get_image(dir_: str, filename: str) -> np.array:\n",
    "    img = cv2.imread(os.path.join(PATH_TO_RESOURCES, dir_, filename))\n",
    "    return cv2.cvtColor(img, cv2.COLOR_BGR2RGB)"
   ]
  },
  {
   "cell_type": "code",
   "execution_count": 5,
   "metadata": {},
   "outputs": [
    {
     "data": {
      "text/plain": [
       "((285,), (285,))"
      ]
     },
     "execution_count": 5,
     "metadata": {},
     "output_type": "execute_result"
    }
   ],
   "source": [
    "X = np.array([\n",
    "    get_image(dir_, filename)\n",
    "    for dir_ in os.listdir(PATH_TO_RESOURCES)\n",
    "    for filename in os.listdir(os.path.join(PATH_TO_RESOURCES, dir_))\n",
    "], dtype=object)\n",
    "Y = np.array([\n",
    "    int(dir_)\n",
    "    for dir_ in os.listdir(PATH_TO_RESOURCES)\n",
    "    for filename in os.listdir(os.path.join(PATH_TO_RESOURCES, dir_))\n",
    "])\n",
    "X.shape, Y.shape"
   ]
  },
  {
   "cell_type": "code",
   "execution_count": 6,
   "metadata": {},
   "outputs": [
    {
     "data": {
      "application/vnd.jupyter.widget-view+json": {
       "model_id": "e568fbee17b448ebbcce209172f162bc",
       "version_major": 2,
       "version_minor": 0
      },
      "text/plain": [
       "interactive(children=(IntSlider(value=29, description='class_', max=57, min=1), Output()), _dom_classes=('widg…"
      ]
     },
     "metadata": {},
     "output_type": "display_data"
    }
   ],
   "source": [
    "nb_class = np.max(Y)\n",
    "\n",
    "@interact(class_=widgets.BoundedIntText(min=1, max=nb_class))\n",
    "def print_class(class_: int) -> None:\n",
    "    _, ax_arr = plt.subplots(nrows=1, ncols=5, figsize=(12,4))\n",
    "    for i, x in enumerate(X[Y == class_]):\n",
    "        ax_arr[i].imshow(x)"
   ]
  },
  {
   "cell_type": "markdown",
   "metadata": {},
   "source": [
    "# Color reduction"
   ]
  },
  {
   "cell_type": "markdown",
   "metadata": {},
   "source": [
    "## Image mask"
   ]
  },
  {
   "cell_type": "code",
   "execution_count": 7,
   "metadata": {},
   "outputs": [
    {
     "data": {
      "application/vnd.jupyter.widget-view+json": {
       "model_id": "e8b0ddc7282c4868ab4ba8e8ebd4b325",
       "version_major": 2,
       "version_minor": 0
      },
      "text/plain": [
       "interactive(children=(IntSlider(value=29, description='class_', max=57, min=1), Output()), _dom_classes=('widg…"
      ]
     },
     "metadata": {},
     "output_type": "display_data"
    }
   ],
   "source": [
    "gray_threshold = 245\n",
    "\n",
    "masks = np.array([\n",
    "    img.sum(axis=-1) < (gray_threshold * 3)\n",
    "    for img in X\n",
    "], dtype=object)\n",
    "\n",
    "@interact(class_=widgets.BoundedIntText(min=1, max=nb_class))\n",
    "def print_class(class_: int) -> None:\n",
    "    _, ax_arr = plt.subplots(nrows=1, ncols=5, figsize=(12,4))\n",
    "    for i, mask in enumerate(masks[Y == class_]):\n",
    "        ax_arr[i].imshow(mask, cmap='gray')"
   ]
  },
  {
   "cell_type": "markdown",
   "metadata": {},
   "source": [
    "## Selecting random pixels"
   ]
  },
  {
   "cell_type": "code",
   "execution_count": 8,
   "metadata": {},
   "outputs": [
    {
     "data": {
      "text/plain": [
       "((49701, 3), dtype('uint8'))"
      ]
     },
     "execution_count": 8,
     "metadata": {},
     "output_type": "execute_result"
    }
   ],
   "source": [
    "nb_sample = 50000\n",
    "\n",
    "nb_images = nb_class * 5\n",
    "nb_sample_per_image = nb_sample // nb_images\n",
    "\n",
    "sample_pxls = X[0][masks[0]][0] # Initialize arbitrary to be able to use np.vstack\n",
    "for img, mask in zip(X[1:], masks[1:]):\n",
    "    pxls = img[mask]\n",
    "    new_sample_pxls_id = np.random.choice(pxls.shape[0], size=nb_sample_per_image, replace=False)\n",
    "    sample_pxls = np.vstack((sample_pxls, pxls[new_sample_pxls_id]))\n",
    "\n",
    "sample_pxls.shape, sample_pxls.dtype"
   ]
  },
  {
   "cell_type": "markdown",
   "metadata": {},
   "source": [
    "## Selecting sampling color"
   ]
  },
  {
   "cell_type": "code",
   "execution_count": 9,
   "metadata": {},
   "outputs": [],
   "source": [
    "from sklearn.cluster import KMeans"
   ]
  },
  {
   "cell_type": "code",
   "execution_count": 45,
   "metadata": {},
   "outputs": [
    {
     "name": "stdout",
     "output_type": "stream",
     "text": [
      "[[ 42  30  24]\n",
      " [245 165  71]\n",
      " [ 84 171 234]\n",
      " [195  44  35]\n",
      " [109  87 120]\n",
      " [ 90 106  44]\n",
      " [207 216 216]]\n"
     ]
    },
    {
     "data": {
      "image/png": "[encoded data removed]",
      "text/plain": [
       "<Figure size 432x288 with 1 Axes>"
      ]
     },
     "metadata": {
      "needs_background": "light"
     },
     "output_type": "display_data"
    }
   ],
   "source": [
    "# Example of color sampling\n",
    "nb_color = 7\n",
    "\n",
    "kmeans = KMeans(n_clusters=nb_color, random_state=42)\n",
    "kmeans.fit(sample_pxls)\n",
    "new_color_lut = kmeans.cluster_centers_.astype(np.uint8)\n",
    "\n",
    "print(new_color_lut)\n",
    "plt.imshow(new_color_lut[np.newaxis, :, :]);"
   ]
  },
  {
   "cell_type": "code",
   "execution_count": 28,
   "metadata": {
    "scrolled": false
   },
   "outputs": [
    {
     "name": "stdout",
     "output_type": "stream",
     "text": [
      "2\n"
     ]
    },
    {
     "data": {
      "image/png": "[encoded data removed]",
      "text/plain": [
       "<Figure size 432x288 with 1 Axes>"
      ]
     },
     "metadata": {
      "needs_background": "light"
     },
     "output_type": "display_data"
    },
    {
     "name": "stdout",
     "output_type": "stream",
     "text": [
      "3\n"
     ]
    },
    {
     "data": {
      "image/png": "[encoded data removed]",
      "text/plain": [
       "<Figure size 432x288 with 1 Axes>"
      ]
     },
     "metadata": {
      "needs_background": "light"
     },
     "output_type": "display_data"
    },
    {
     "name": "stdout",
     "output_type": "stream",
     "text": [
      "4\n"
     ]
    },
    {
     "data": {
      "image/png": "[encoded data removed]",
      "text/plain": [
       "<Figure size 432x288 with 1 Axes>"
      ]
     },
     "metadata": {
      "needs_background": "light"
     },
     "output_type": "display_data"
    },
    {
     "name": "stdout",
     "output_type": "stream",
     "text": [
      "5\n"
     ]
    },
    {
     "data": {
      "image/png": "[encoded data removed]",
      "text/plain": [
       "<Figure size 432x288 with 1 Axes>"
      ]
     },
     "metadata": {
      "needs_background": "light"
     },
     "output_type": "display_data"
    },
    {
     "name": "stdout",
     "output_type": "stream",
     "text": [
      "6\n"
     ]
    },
    {
     "data": {
      "image/png": "[encoded data removed]",
      "text/plain": [
       "<Figure size 432x288 with 1 Axes>"
      ]
     },
     "metadata": {
      "needs_background": "light"
     },
     "output_type": "display_data"
    },
    {
     "name": "stdout",
     "output_type": "stream",
     "text": [
      "7\n"
     ]
    },
    {
     "data": {
      "image/png": "[encoded data removed]",
      "text/plain": [
       "<Figure size 432x288 with 1 Axes>"
      ]
     },
     "metadata": {
      "needs_background": "light"
     },
     "output_type": "display_data"
    },
    {
     "name": "stdout",
     "output_type": "stream",
     "text": [
      "8\n"
     ]
    },
    {
     "data": {
      "image/png": "[encoded data removed]",
      "text/plain": [
       "<Figure size 432x288 with 1 Axes>"
      ]
     },
     "metadata": {
      "needs_background": "light"
     },
     "output_type": "display_data"
    },
    {
     "name": "stdout",
     "output_type": "stream",
     "text": [
      "9\n"
     ]
    },
    {
     "data": {
      "image/png": "[encoded data removed]",
      "text/plain": [
       "<Figure size 432x288 with 1 Axes>"
      ]
     },
     "metadata": {
      "needs_background": "light"
     },
     "output_type": "display_data"
    },
    {
     "name": "stdout",
     "output_type": "stream",
     "text": [
      "10\n"
     ]
    },
    {
     "data": {
      "image/png": "[encoded data removed]",
      "text/plain": [
       "<Figure size 432x288 with 1 Axes>"
      ]
     },
     "metadata": {
      "needs_background": "light"
     },
     "output_type": "display_data"
    },
    {
     "name": "stdout",
     "output_type": "stream",
     "text": [
      "11\n"
     ]
    },
    {
     "data": {
      "image/png": "[encoded data removed]",
      "text/plain": [
       "<Figure size 432x288 with 1 Axes>"
      ]
     },
     "metadata": {
      "needs_background": "light"
     },
     "output_type": "display_data"
    },
    {
     "name": "stdout",
     "output_type": "stream",
     "text": [
      "12\n"
     ]
    },
    {
     "data": {
      "image/png": "[encoded data removed]",
      "text/plain": [
       "<Figure size 432x288 with 1 Axes>"
      ]
     },
     "metadata": {
      "needs_background": "light"
     },
     "output_type": "display_data"
    },
    {
     "name": "stdout",
     "output_type": "stream",
     "text": [
      "13\n"
     ]
    },
    {
     "data": {
      "image/png": "[encoded data removed]",
      "text/plain": [
       "<Figure size 432x288 with 1 Axes>"
      ]
     },
     "metadata": {
      "needs_background": "light"
     },
     "output_type": "display_data"
    }
   ],
   "source": [
    "# How to choose the right number of colors ?\n",
    "\n",
    "inertias = []\n",
    "for i in range(2, 14):\n",
    "    print(i)\n",
    "    kmeans = KMeans(n_clusters=i, random_state=42)\n",
    "    kmeans.fit(sample_pxls)\n",
    "    inertias.append(kmeans.inertia_)\n",
    "    \n",
    "    new_color = kmeans.cluster_centers_.astype(np.uint8)\n",
    "    plt.imshow(new_color[np.newaxis, :, :])\n",
    "    plt.show()"
   ]
  },
  {
   "cell_type": "code",
   "execution_count": 12,
   "metadata": {},
   "outputs": [
    {
     "data": {
      "text/plain": [
       "[<matplotlib.lines.Line2D at 0x7f070ace4eb0>]"
      ]
     },
     "execution_count": 12,
     "metadata": {},
     "output_type": "execute_result"
    },
    {
     "data": {
      "image/png": "[encoded data removed]",
      "text/plain": [
       "<Figure size 432x288 with 1 Axes>"
      ]
     },
     "metadata": {
      "needs_background": "light"
     },
     "output_type": "display_data"
    }
   ],
   "source": [
    "plt.plot(range(2, 14), inertias)"
   ]
  },
  {
   "cell_type": "markdown",
   "metadata": {},
   "source": [
    "<div style=\"overflow: auto; border-style: dotted; border-width: 1px; padding: 10px; margin: 10px 0px\">\n",
    "<img alt=\"work\" src='img/work.png' style='float: left; margin-right: 20px'>\n",
    "\n",
    "**Use the `KMeans` object and super fancy Numpy indexing to create a new image where the color of each pixel is the color of the closest cluster to the original pixel color.**\n",
    "\n",
    "Tip:\n",
    "- Do not forget to mask the background of the image during prediction (because we did not train the predictor on them).\n",
    "- Start by producing a new image with cluster labels instead of color values.\n",
    "- Then create a color lookup table (LUT) using cluster centers (make sure to use `np.uint8` values to avoid issues with later conversion).\n",
    "- Finally use Numpy advanced indexing to apply the LUT to the image with cluster labels.\n",
    "</div>"
   ]
  },
  {
   "cell_type": "code",
   "execution_count": 27,
   "metadata": {
    "scrolled": false
   },
   "outputs": [
    {
     "data": {
      "text/plain": [
       "array([6, 6, 6, ..., 6, 6, 6], dtype=int32)"
      ]
     },
     "execution_count": 27,
     "metadata": {},
     "output_type": "execute_result"
    }
   ],
   "source": [
    "color_maps = np.array([\n",
    "    kmeans.predict(img[mask])\n",
    "    for img, mask in zip(X, masks)\n",
    "], dtype=object)\n",
    "color_maps[0]"
   ]
  },
  {
   "cell_type": "code",
   "execution_count": 44,
   "metadata": {},
   "outputs": [
    {
     "data": {
      "application/vnd.jupyter.widget-view+json": {
       "model_id": "ec8d3e1a9f254c93ba8c318b6739c516",
       "version_major": 2,
       "version_minor": 0
      },
      "text/plain": [
       "interactive(children=(BoundedIntText(value=1, description='class_', max=57, min=1), Output()), _dom_classes=('…"
      ]
     },
     "metadata": {},
     "output_type": "display_data"
    }
   ],
   "source": [
    "def get_recolored_img(img: np.array, mask: np.array, color_map: np.array) -> np.array:\n",
    "    recolored_img = np.full_like(img, 255)\n",
    "    recolored_img[mask] = new_color_lut[color_map]\n",
    "    \n",
    "    return recolored_img\n",
    "\n",
    "recolored_X = np.array([\n",
    "    get_recolored_img(img, mask, color_map)\n",
    "    for img, mask, color_map in zip(X, masks, color_maps)\n",
    "], dtype=object)\n",
    "\n",
    "@interact(class_=widgets.BoundedIntText(min=1, max=nb_class))\n",
    "def print_class(class_: int) -> None:\n",
    "    _, ax_arr = plt.subplots(nrows=2, ncols=5, figsize=(12,4))\n",
    "    for i, (recolored_x, x) in enumerate(zip(recolored_X[Y == class_], X[Y == class_])):\n",
    "        ax_arr[0, i].imshow(recolored_x)\n",
    "        ax_arr[1, i].imshow(x)"
   ]
  },
  {
   "cell_type": "markdown",
   "metadata": {},
   "source": [
    "## Compute the color histograms"
   ]
  },
  {
   "cell_type": "code",
   "execution_count": 53,
   "metadata": {},
   "outputs": [
    {
     "data": {
      "text/plain": [
       "array([0.28067700987306066, 0.3485543018335684, 0.0, 0.22161495063469674,\n",
       "       0.02529971791255289, 0.07757404795486601, 0.04627997179125529],\n",
       "      dtype=object)"
      ]
     },
     "execution_count": 53,
     "metadata": {},
     "output_type": "execute_result"
    }
   ],
   "source": [
    "def get_hist(color_map: np.array) -> np.array:\n",
    "    hist = np.bincount(color_map, minlength=nb_color)\n",
    "    norm_hist = hist / color_map.shape[0]\n",
    "    \n",
    "    return norm_hist\n",
    "\n",
    "color_histograms = np.array([get_hist(color_map) for color_map in color_maps], dtype=object)\n",
    "color_histograms[0]"
   ]
  },
  {
   "cell_type": "code",
   "execution_count": 56,
   "metadata": {},
   "outputs": [
    {
     "data": {
      "application/vnd.jupyter.widget-view+json": {
       "model_id": "34fcc48ac92f4ef4ad7753049a6393dd",
       "version_major": 2,
       "version_minor": 0
      },
      "text/plain": [
       "interactive(children=(BoundedIntText(value=0, description='x_index', max=285), Output()), _dom_classes=('widge…"
      ]
     },
     "metadata": {},
     "output_type": "display_data"
    }
   ],
   "source": [
    "colors_for_bars = new_color_lut / 255  # matplotlib colors are RGB values scaled to [0,1]\n",
    "\n",
    "@interact(x_index=widgets.BoundedIntText(max=X.shape[0]))\n",
    "def show_histograms(x_index: int) -> None:\n",
    "    plt.figure(figsize=(8,4))\n",
    "    plt.subplot(1,3,1)\n",
    "    plt.imshow(X[x_index])\n",
    "    plt.axis('off'); plt.title(\"Original\")\n",
    "    plt.subplot(1,3,2)\n",
    "    plt.imshow(recolored_X[x_index])\n",
    "    plt.axis('off'); plt.title(\"Recolored\")\n",
    "    plt.subplot(1,3,3, aspect=len(color_histograms[0]))\n",
    "    plt.ylim(0, 1)\n",
    "    plt.bar(range(len(color_histograms[x_index])), \n",
    "            color_histograms[x_index] / color_histograms[x_index].max(), \n",
    "            color=colors_for_bars)\n",
    "    plt.xticks([]); plt.title(\"Histogram\")\n",
    "    plt.show()"
   ]
  },
  {
   "cell_type": "markdown",
   "metadata": {},
   "source": [
    "## Compute the distance matrix\n",
    "Because color histograms are **very compact**, it is **very fast** to compute the distance matrix (even if the complexity is $O(n^2)$)."
   ]
  },
  {
   "cell_type": "code",
   "execution_count": 58,
   "metadata": {},
   "outputs": [],
   "source": [
    "from scipy.spatial.distance import cosine\n",
    "\n",
    "dist_mat = np.ones((len(X), len(X))) # distances will be between 0 (closest) and 1 (farthest)\n",
    "for i in range(len(X)):\n",
    "    for j in range(len(X)):\n",
    "        dist_mat[i,j] = cosine(color_histograms[i], color_histograms[j])"
   ]
  },
  {
   "cell_type": "markdown",
   "metadata": {},
   "source": [
    "Correct the diagonal to avoid getting the same result over and over: we set the distance of one element against itself to the maximum distance."
   ]
  },
  {
   "cell_type": "code",
   "execution_count": 59,
   "metadata": {},
   "outputs": [],
   "source": [
    "dist_mat[np.diag_indices_from(dist_mat)] = 1"
   ]
  },
  {
   "cell_type": "code",
   "execution_count": 60,
   "metadata": {},
   "outputs": [],
   "source": [
    "idx_of_best_matches_per_row = np.argsort(dist_mat, axis=1)"
   ]
  },
  {
   "cell_type": "markdown",
   "metadata": {},
   "source": [
    "## Find the best matches for each image"
   ]
  },
  {
   "cell_type": "code",
   "execution_count": 67,
   "metadata": {
    "scrolled": false
   },
   "outputs": [
    {
     "data": {
      "application/vnd.jupyter.widget-view+json": {
       "model_id": "ad5c558faa8c4fe5a4cbfc4120c26513",
       "version_major": 2,
       "version_minor": 0
      },
      "text/plain": [
       "interactive(children=(BoundedIntText(value=0, description='x_index', max=285), Output()), _dom_classes=('widge…"
      ]
     },
     "metadata": {},
     "output_type": "display_data"
    }
   ],
   "source": [
    "nb_images_displayed = 5\n",
    "\n",
    "@interact(x_index=widgets.BoundedIntText(max=X.shape[0]))\n",
    "def show_similar_images(x_index: int) -> None:\n",
    "    plt.figure(figsize=(12,8))\n",
    "    nb_columns = nb_images_displayed + 1\n",
    "    \n",
    "    plt.subplot(1, columns, 1)\n",
    "    plt.imshow(X[x_index])\n",
    "    plt.axis(\"off\")\n",
    "    plt.title(\"Original\")\n",
    "    \n",
    "    for image_id in range(nb_images_displayed):\n",
    "        idx = idx_of_best_matches_per_row[x_index, image_id]\n",
    "        plt.subplot(1, nb_columns, image_id + 2)\n",
    "        plt.imshow(recolored_X[idx])\n",
    "        plt.axis(\"off\")\n",
    "        plt.title(f\"({dist_mat[x_index, idx]: .3f})\")"
   ]
  },
  {
   "cell_type": "markdown",
   "metadata": {},
   "source": [
    "A priori le nb de trous n'est pas ideal en second discriminateur. Contre-example:\n",
    "- 0\n",
    "- Peut-etre le 10 (jsp si 2 ou 3 trous)"
   ]
  },
  {
   "cell_type": "markdown",
   "metadata": {},
   "source": [
    "Idees d'amelioration:\n",
    "- Tester d'autres distances\n",
    "- Reduire la \"Color quantization\" (a.k.a augmenter le nbr de couleurs) pour avoir une distance d'histogramme plus perinente\n",
    "- Discrimineur de formes"
   ]
  },
  {
   "cell_type": "code",
   "execution_count": null,
   "metadata": {},
   "outputs": [],
   "source": []
  },
  {
   "cell_type": "code",
   "execution_count": null,
   "metadata": {},
   "outputs": [],
   "source": []
  },
  {
   "cell_type": "code",
   "execution_count": null,
   "metadata": {},
   "outputs": [],
   "source": []
  },
  {
   "cell_type": "code",
   "execution_count": null,
   "metadata": {},
   "outputs": [],
   "source": []
  }
 ],
 "metadata": {
  "celltoolbar": "Tags",
  "hide_input": false,
  "kernelspec": {
   "display_name": "Python 3 (ipykernel)",
   "language": "python",
   "name": "python3"
  },
  "language_info": {
   "codemirror_mode": {
    "name": "ipython",
    "version": 3
   },
   "file_extension": ".py",
   "mimetype": "text/x-python",
   "name": "python",
   "nbconvert_exporter": "python",
   "pygments_lexer": "ipython3",
   "version": "3.10.2"
  },
  "varInspector": {
   "cols": {
    "lenName": 16,
    "lenType": 16,
    "lenVar": 40
   },
   "kernels_config": {
    "python": {
     "delete_cmd_postfix": "",
     "delete_cmd_prefix": "del ",
     "library": "var_list.py",
     "varRefreshCmd": "print(var_dic_list())"
    },
    "r": {
     "delete_cmd_postfix": ") ",
     "delete_cmd_prefix": "rm(",
     "library": "var_list.r",
     "varRefreshCmd": "cat(var_dic_list()) "
    }
   },
   "types_to_exclude": [
    "module",
    "function",
    "builtin_function_or_method",
    "instance",
    "_Feature"
   ],
   "window_display": false
  }
 },
 "nbformat": 4,
 "nbformat_minor": 2
}
