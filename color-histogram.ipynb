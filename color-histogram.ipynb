{
 "cells": [
  {
   "cell_type": "markdown",
   "metadata": {},
   "source": [
    "# Color quantization & first evaluation of color histogram classifier"
   ]
  },
  {
   "cell_type": "markdown",
   "metadata": {},
   "source": [
    "## Loading the data"
   ]
  },
  {
   "cell_type": "code",
   "execution_count": 27,
   "metadata": {},
   "outputs": [],
   "source": [
    "import numpy as np\n",
    "import cv2\n",
    "import matplotlib.pyplot as plt\n",
    "import os\n",
    "from ipywidgets import interact\n",
    "import ipywidgets as widgets\n",
    "\n",
    "from toolkit import get_data_set"
   ]
  },
  {
   "cell_type": "code",
   "execution_count": 28,
   "metadata": {},
   "outputs": [
    {
     "data": {
      "text/plain": [
       "((285,), (285,))"
      ]
     },
     "execution_count": 28,
     "metadata": {},
     "output_type": "execute_result"
    }
   ],
   "source": [
    "X, Y = get_data_set()\n",
    "X.shape, Y.shape"
   ]
  },
  {
   "cell_type": "markdown",
   "metadata": {},
   "source": [
    "## What the data looks like ?"
   ]
  },
  {
   "cell_type": "code",
   "execution_count": 5,
   "metadata": {},
   "outputs": [
    {
     "data": {
      "application/vnd.jupyter.widget-view+json": {
       "model_id": "003404800ced40d19dd077cd621c5832",
       "version_major": 2,
       "version_minor": 0
      },
      "text/plain": [
       "interactive(children=(BoundedIntText(value=1, description='class_', max=57, min=1), Output()), _dom_classes=('…"
      ]
     },
     "metadata": {},
     "output_type": "display_data"
    }
   ],
   "source": [
    "nb_class = np.max(Y)\n",
    "\n",
    "@interact(class_=widgets.BoundedIntText(min=1, max=nb_class))\n",
    "def print_class(class_: int) -> None:\n",
    "    _, ax_arr = plt.subplots(nrows=1, ncols=5, figsize=(12,4))\n",
    "    for i, x in enumerate(X[Y == class_]):\n",
    "        ax_arr[i].imshow(x)"
   ]
  },
  {
   "cell_type": "markdown",
   "metadata": {},
   "source": [
    "# Color reduction"
   ]
  },
  {
   "cell_type": "markdown",
   "metadata": {},
   "source": [
    "## Image mask"
   ]
  },
  {
   "cell_type": "code",
   "execution_count": 6,
   "metadata": {},
   "outputs": [
    {
     "data": {
      "application/vnd.jupyter.widget-view+json": {
       "model_id": "24571c44b4614e338bae3560a74cc1aa",
       "version_major": 2,
       "version_minor": 0
      },
      "text/plain": [
       "interactive(children=(BoundedIntText(value=1, description='class_', max=57, min=1), Output()), _dom_classes=('…"
      ]
     },
     "metadata": {},
     "output_type": "display_data"
    }
   ],
   "source": [
    "gray_threshold = 245\n",
    "\n",
    "masks = np.array([\n",
    "    img.sum(axis=-1) < (gray_threshold * 3)\n",
    "    for img in X\n",
    "], dtype=object)\n",
    "\n",
    "@interact(class_=widgets.BoundedIntText(min=1, max=nb_class))\n",
    "def print_class(class_: int) -> None:\n",
    "    _, ax_arr = plt.subplots(nrows=1, ncols=5, figsize=(12,4))\n",
    "    for i, mask in enumerate(masks[Y == class_]):\n",
    "        ax_arr[i].imshow(mask, cmap='gray')"
   ]
  },
  {
   "cell_type": "markdown",
   "metadata": {},
   "source": [
    "## Sampling pixels"
   ]
  },
  {
   "cell_type": "code",
   "execution_count": 7,
   "metadata": {},
   "outputs": [
    {
     "data": {
      "text/plain": [
       "((49701, 3), dtype('uint8'))"
      ]
     },
     "execution_count": 7,
     "metadata": {},
     "output_type": "execute_result"
    }
   ],
   "source": [
    "nb_sample = 50000\n",
    "\n",
    "nb_images = nb_class * 5\n",
    "nb_sample_per_image = nb_sample // nb_images\n",
    "\n",
    "sample_pxls = X[0][masks[0]][0] # Initialize arbitrary to be able to use np.vstack\n",
    "for img, mask in zip(X[1:], masks[1:]):\n",
    "    pxls = img[mask]\n",
    "    new_sample_pxls_id = np.random.choice(pxls.shape[0], size=nb_sample_per_image, replace=False)\n",
    "    sample_pxls = np.vstack((sample_pxls, pxls[new_sample_pxls_id]))\n",
    "\n",
    "sample_pxls.shape, sample_pxls.dtype"
   ]
  },
  {
   "cell_type": "markdown",
   "metadata": {
    "tags": []
   },
   "source": [
    "## Selecting color quantization threshold"
   ]
  },
  {
   "cell_type": "code",
   "execution_count": 59,
   "metadata": {},
   "outputs": [
    {
     "name": "stderr",
     "output_type": "stream",
     "text": [
      "100%|████████████████████████████████████████████████████████████████████████████████████████████████████████████████████████████████████████████████████████████████████████████████| 18/18 [01:12<00:00,  4.04s/it]\n"
     ]
    }
   ],
   "source": [
    "from sklearn.cluster import KMeans\n",
    "from tqdm import tqdm\n",
    "\n",
    "# How to choose the right number of colors ?\n",
    "\n",
    "inertias = []\n",
    "new_colors = []\n",
    "color_range = (2, 20)\n",
    "\n",
    "# Compute new_colors and inertias\n",
    "for i in tqdm(range(*color_range)):\n",
    "    kmeans = KMeans(n_clusters=i, random_state=42)\n",
    "    \n",
    "    kmeans.fit(sample_pxls)\n",
    "    inertias.append(kmeans.inertia_)\n",
    "    \n",
    "    new_color = kmeans.cluster_centers_.astype(np.uint8)\n",
    "    new_colors.append(new_color)"
   ]
  },
  {
   "cell_type": "code",
   "execution_count": 109,
   "metadata": {},
   "outputs": [
    {
     "data": {
      "image/png": "[encoded data removed]",
      "text/plain": [
       "<Figure size 1080x576 with 2 Axes>"
      ]
     },
     "metadata": {
      "needs_background": "light"
     },
     "output_type": "display_data"
    }
   ],
   "source": [
    "nb_opti_color = 6\n",
    "_, ax_arr = plt.subplots(ncols=2, figsize=(15,8))\n",
    "    \n",
    "# Plot new_colors\n",
    "nb_tested_colors = color_range[1] - color_range[0]\n",
    "new_color_img = np.full(shape=(color_range[1], 2 * nb_tested_colors - 1, 3), fill_value=255)\n",
    "\n",
    "for i, new_color in enumerate(new_colors):\n",
    "    new_color_img[:new_color.shape[0], i * 2] = new_color[np.newaxis, ...]\n",
    "\n",
    "ax_arr[1].imshow(new_color_img, origin='lower')\n",
    "ax_arr[1].set_title(\"All possible colors selection\")\n",
    "ax_arr[1].set_yticklabels([]); ax_arr[1].set_yticks([])\n",
    "\n",
    "# Plot inertias\n",
    "ax_arr[0].plot(range(*color_range), inertias)\n",
    "ax_arr[0].set_title(\"Evolution of inertias depending on the number of colors selected\")\n",
    "ax_arr[0].set_xlabel(\"Number of colors\")\n",
    "ax_arr[0].set_ylabel(\"Inertias\")\n",
    "ax_arr[0].set_yticklabels([]); ax_arr[0].set_yticks([])\n",
    "ax_arr[0].set_xticks(range(color_range[-1]))\n",
    "ax_arr[0].plot([nb_opti_color, nb_opti_color],[0, inertias[nb_opti_color - color_range[0]]],':', color = '#00aadd', lw=3)\n",
    "ax_arr[0].annotate(r\"it's here\", xy=(nb_opti_color, inertias[nb_opti_color - color_range[0]]),\n",
    "                   xytext=(nb_opti_color * 1.5, inertias[nb_opti_color - color_range[0]] * 1.5), arrowprops=dict(arrowstyle=\"-|>\"));"
   ]
  },
  {
   "cell_type": "code",
   "execution_count": 111,
   "metadata": {},
   "outputs": [
    {
     "data": {
      "image/png": "[encoded data removed]",
      "text/plain": [
       "<Figure size 1080x1080 with 1 Axes>"
      ]
     },
     "metadata": {
      "needs_background": "light"
     },
     "output_type": "display_data"
    }
   ],
   "source": [
    "# Example of color sampling\n",
    "nb_color = nb_opti_color\n",
    "\n",
    "kmeans = KMeans(n_clusters=nb_color, random_state=42)\n",
    "kmeans.fit(sample_pxls)\n",
    "new_color_lut = kmeans.cluster_centers_.astype(np.uint8)\n",
    "\n",
    "plt.imshow(new_color_lut[np.newaxis, :, :]); plt.axis(\"off\"); plt.title(\"Colors selected\");"
   ]
  },
  {
   "cell_type": "code",
   "execution_count": 112,
   "metadata": {},
   "outputs": [
    {
     "data": {
      "application/vnd.jupyter.widget-view+json": {
       "model_id": "44efd040ee5141c0a93f809fb03a5dc4",
       "version_major": 2,
       "version_minor": 0
      },
      "text/plain": [
       "interactive(children=(BoundedIntText(value=1, description='class_', max=57, min=1), Output()), _dom_classes=('…"
      ]
     },
     "metadata": {},
     "output_type": "display_data"
    }
   ],
   "source": [
    "color_maps = np.array([\n",
    "    kmeans.predict(img[mask])\n",
    "    for img, mask in zip(X, masks)\n",
    "], dtype=object)\n",
    "color_maps[0]\n",
    "\n",
    "def get_recolored_img(img: np.array, mask: np.array, color_map: np.array) -> np.array:\n",
    "    recolored_img = np.full_like(img, 255)\n",
    "    recolored_img[mask] = new_color_lut[color_map]\n",
    "    \n",
    "    return recolored_img\n",
    "\n",
    "recolored_X = np.array([\n",
    "    get_recolored_img(img, mask, color_map)\n",
    "    for img, mask, color_map in zip(X, masks, color_maps)\n",
    "], dtype=object)\n",
    "\n",
    "@interact(class_=widgets.BoundedIntText(min=1, max=nb_class))\n",
    "def print_class(class_: int) -> None:\n",
    "    _, ax_arr = plt.subplots(nrows=2, ncols=5, figsize=(12,4))\n",
    "    for i, (recolored_x, x) in enumerate(zip(recolored_X[Y == class_], X[Y == class_])):\n",
    "        ax_arr[0, i].imshow(recolored_x)\n",
    "        ax_arr[1, i].imshow(x)\n",
    "        ax_arr[0, i].axis(\"off\"); ax_arr[0, i].set_title(\"Recolored\")\n",
    "        ax_arr[1, i].axis(\"off\"); ax_arr[1, i].set_title(\"Original\")"
   ]
  },
  {
   "cell_type": "markdown",
   "metadata": {},
   "source": [
    "## Compute the color histograms"
   ]
  },
  {
   "cell_type": "code",
   "execution_count": 14,
   "metadata": {},
   "outputs": [
    {
     "data": {
      "text/plain": [
       "array([0.22073342736248236, 0.2782087447108604, 0.04610366713681241,\n",
       "       0.025035260930888575, 0.08286318758815232, 0.0,\n",
       "       0.34705571227080395], dtype=object)"
      ]
     },
     "execution_count": 14,
     "metadata": {},
     "output_type": "execute_result"
    }
   ],
   "source": [
    "def get_hist(color_map: np.array) -> np.array:\n",
    "    hist = np.bincount(color_map, minlength=nb_color)\n",
    "    norm_hist = hist / color_map.shape[0]\n",
    "    \n",
    "    return norm_hist\n",
    "\n",
    "color_histograms = np.array([get_hist(color_map) for color_map in color_maps], dtype=object)\n",
    "color_histograms[0]"
   ]
  },
  {
   "cell_type": "code",
   "execution_count": 15,
   "metadata": {},
   "outputs": [
    {
     "data": {
      "application/vnd.jupyter.widget-view+json": {
       "model_id": "efaf818021b24741b867c53946b8c56d",
       "version_major": 2,
       "version_minor": 0
      },
      "text/plain": [
       "interactive(children=(BoundedIntText(value=0, description='x_index', max=285), Output()), _dom_classes=('widge…"
      ]
     },
     "metadata": {},
     "output_type": "display_data"
    }
   ],
   "source": [
    "colors_for_bars = new_color_lut / 255  # matplotlib colors are RGB values scaled to [0,1]\n",
    "\n",
    "@interact(x_index=widgets.BoundedIntText(max=X.shape[0]))\n",
    "def show_histograms(x_index: int) -> None:\n",
    "    plt.figure(figsize=(8,4))\n",
    "    plt.subplot(1,3,1)\n",
    "    plt.imshow(X[x_index])\n",
    "    plt.axis('off'); plt.title(\"Original\")\n",
    "    plt.subplot(1,3,2)\n",
    "    plt.imshow(recolored_X[x_index])\n",
    "    plt.axis('off'); plt.title(\"Recolored\")\n",
    "    plt.subplot(1,3,3, aspect=len(color_histograms[0]))\n",
    "    plt.ylim(0, 1)\n",
    "    plt.bar(range(len(color_histograms[x_index])), \n",
    "            color_histograms[x_index] / color_histograms[x_index].max(), \n",
    "            color=colors_for_bars)\n",
    "    plt.xticks([]); plt.title(\"Histogram\")\n",
    "    plt.show()"
   ]
  },
  {
   "cell_type": "markdown",
   "metadata": {},
   "source": [
    "## Compute the distance matrix\n",
    "Because color histograms are **very compact**, it is **very fast** to compute the distance matrix (even if the complexity is $O(n^2)$)."
   ]
  },
  {
   "cell_type": "code",
   "execution_count": 16,
   "metadata": {},
   "outputs": [],
   "source": [
    "from scipy.spatial.distance import cosine\n",
    "\n",
    "dist_mat = np.ones((len(X), len(X))) # distances will be between 0 (closest) and 1 (farthest)\n",
    "for i in range(len(X)):\n",
    "    for j in range(len(X)):\n",
    "        dist_mat[i,j] = cosine(color_histograms[i], color_histograms[j])"
   ]
  },
  {
   "cell_type": "markdown",
   "metadata": {},
   "source": [
    "Correct the diagonal to avoid getting the same result over and over: we set the distance of one element against itself to the maximum distance."
   ]
  },
  {
   "cell_type": "code",
   "execution_count": 17,
   "metadata": {},
   "outputs": [],
   "source": [
    "dist_mat[np.diag_indices_from(dist_mat)] = 1"
   ]
  },
  {
   "cell_type": "code",
   "execution_count": 18,
   "metadata": {},
   "outputs": [],
   "source": [
    "idx_of_best_matches_per_row = np.argsort(dist_mat, axis=1)"
   ]
  },
  {
   "cell_type": "markdown",
   "metadata": {},
   "source": [
    "## Find the best matches for each image"
   ]
  },
  {
   "cell_type": "code",
   "execution_count": 19,
   "metadata": {},
   "outputs": [
    {
     "data": {
      "application/vnd.jupyter.widget-view+json": {
       "model_id": "b909151f5f4b4280902a47d5802615b7",
       "version_major": 2,
       "version_minor": 0
      },
      "text/plain": [
       "interactive(children=(BoundedIntText(value=0, description='x_index', max=284), Output()), _dom_classes=('widge…"
      ]
     },
     "metadata": {},
     "output_type": "display_data"
    }
   ],
   "source": [
    "nb_images_displayed = 5\n",
    "\n",
    "@interact(x_index=widgets.BoundedIntText(max=X.shape[0] - 1))\n",
    "def show_similar_images(x_index: int) -> None:\n",
    "    plt.figure(figsize=(12,8))\n",
    "    nb_columns = nb_images_displayed + 1\n",
    "    \n",
    "    plt.subplot(1, nb_columns, 1)\n",
    "    plt.imshow(recolored_X[x_index])\n",
    "    plt.axis(\"off\")\n",
    "    plt.title(\"Original\")\n",
    "    \n",
    "    for image_id in range(nb_images_displayed):\n",
    "        idx = idx_of_best_matches_per_row[x_index, image_id]\n",
    "        plt.subplot(1, nb_columns, image_id + 2)\n",
    "        plt.imshow(recolored_X[idx])\n",
    "        plt.axis(\"off\")\n",
    "        plt.title(f\"({dist_mat[x_index, idx]: .6f})\")"
   ]
  },
  {
   "cell_type": "markdown",
   "metadata": {},
   "source": [
    "A priori le nb de trous n'est pas ideal en second discriminateur. Contre-example:\n",
    "- 0\n",
    "- Peut-etre le 10 (jsp si 2 ou 3 trous)"
   ]
  },
  {
   "cell_type": "markdown",
   "metadata": {},
   "source": [
    "Idees d'amelioration:\n",
    "- Tester d'autres distances\n",
    "- Reduire la \"Color quantization\" (a.k.a augmenter le nbr de couleurs) pour avoir une distance d'histogramme plus perinente\n",
    "- Discrimineur de formes\n",
    "- Tester\n",
    "    - Soit d'augmenter le nombre de couleurs pour avoir un histogram + precis\n",
    "    - Soit de tester des discriminateurs de formes"
   ]
  },
  {
   "cell_type": "markdown",
   "metadata": {},
   "source": [
    "# Classifier base on image color histogram"
   ]
  },
  {
   "cell_type": "code",
   "execution_count": 20,
   "metadata": {},
   "outputs": [
    {
     "data": {
      "text/plain": [
       "array([0.85964912, 0.87719298, 0.85964912, 0.9122807 , 0.89473684])"
      ]
     },
     "execution_count": 20,
     "metadata": {},
     "output_type": "execute_result"
    }
   ],
   "source": [
    "from sklearn.neighbors import KNeighborsClassifier\n",
    "from sklearn.model_selection import cross_val_score\n",
    "\n",
    "knn = KNeighborsClassifier()\n",
    "cross_val_score(knn, color_histograms, Y, cv=5)"
   ]
  },
  {
   "cell_type": "code",
   "execution_count": 21,
   "metadata": {},
   "outputs": [
    {
     "data": {
      "text/plain": [
       "array([0.87719298, 0.89473684, 0.87719298, 0.89473684, 0.89473684])"
      ]
     },
     "execution_count": 21,
     "metadata": {},
     "output_type": "execute_result"
    }
   ],
   "source": [
    "from sklearn.svm import SVC\n",
    "\n",
    "svc = SVC()\n",
    "cross_val_score(svc, color_histograms, Y, cv=5)"
   ]
  },
  {
   "cell_type": "code",
   "execution_count": 22,
   "metadata": {},
   "outputs": [
    {
     "data": {
      "text/plain": [
       "array([0.85964912, 0.87719298, 0.85964912, 0.9122807 , 0.89473684])"
      ]
     },
     "execution_count": 22,
     "metadata": {},
     "output_type": "execute_result"
    }
   ],
   "source": [
    "from sklearn.model_selection import cross_validate\n",
    "\n",
    "dict_ = cross_validate(knn, color_histograms, Y, cv=5, return_estimator=True)\n",
    "dict_[\"test_score\"]"
   ]
  },
  {
   "cell_type": "code",
   "execution_count": 23,
   "metadata": {},
   "outputs": [],
   "source": [
    "best_knn = dict_[\"estimator\"][1]"
   ]
  },
  {
   "cell_type": "code",
   "execution_count": 24,
   "metadata": {},
   "outputs": [
    {
     "data": {
      "text/plain": [
       "array([0.87719298, 0.89473684, 0.87719298, 0.89473684, 0.89473684])"
      ]
     },
     "execution_count": 24,
     "metadata": {},
     "output_type": "execute_result"
    }
   ],
   "source": [
    "dict_svc = cross_validate(svc, color_histograms, Y, cv=5, return_estimator=True)\n",
    "dict_svc[\"test_score\"]"
   ]
  },
  {
   "cell_type": "code",
   "execution_count": 25,
   "metadata": {},
   "outputs": [],
   "source": [
    "best_svc = dict_svc[\"estimator\"][1]"
   ]
  },
  {
   "cell_type": "code",
   "execution_count": 26,
   "metadata": {},
   "outputs": [
    {
     "data": {
      "image/png": "[encoded data removed]",
      "text/plain": [
       "<Figure size 1080x1080 with 2 Axes>"
      ]
     },
     "metadata": {
      "needs_background": "light"
     },
     "output_type": "display_data"
    }
   ],
   "source": [
    "import pandas as pd\n",
    "import seaborn as sn\n",
    "\n",
    "def print_confusion_matrix(predicted: np.array, actual: np.array) -> None:\n",
    "    confusion_matrix = pd.crosstab(actual, predicted, rownames=['Actual'], colnames=['Predicted'], margins=True)\n",
    "    plt.tick_params(axis='both', which='major', labelsize=10, labelbottom=True, bottom=True, top=True, labeltop=True)\n",
    "    sn.heatmap(confusion_matrix, annot=True, vmax=np.max(confusion_matrix.max()[:-1]))\n",
    "    plt.show()\n",
    "    \n",
    "plt.rcParams[\"figure.figsize\"] = (15,15)\n",
    "print_confusion_matrix(best_svc.predict(color_histograms), Y)"
   ]
  },
  {
   "cell_type": "markdown",
   "metadata": {},
   "source": [
    "On voit la class 6 (Le bon homme de neige) est confondu avec les class 12 et 32, respectivement le Fantome et le Crayon.\n",
    "Ce qui est logique comme ils ont tous les 3 des couleurs tres similaires."
   ]
  },
  {
   "cell_type": "code",
   "execution_count": null,
   "metadata": {},
   "outputs": [],
   "source": []
  },
  {
   "cell_type": "code",
   "execution_count": null,
   "metadata": {},
   "outputs": [],
   "source": []
  },
  {
   "cell_type": "code",
   "execution_count": null,
   "metadata": {},
   "outputs": [],
   "source": []
  },
  {
   "cell_type": "code",
   "execution_count": null,
   "metadata": {},
   "outputs": [],
   "source": []
  }
 ],
 "metadata": {
  "celltoolbar": "Tags",
  "hide_input": false,
  "kernelspec": {
   "display_name": "Python 3 (ipykernel)",
   "language": "python",
   "name": "python3"
  },
  "language_info": {
   "codemirror_mode": {
    "name": "ipython",
    "version": 3
   },
   "file_extension": ".py",
   "mimetype": "text/x-python",
   "name": "python",
   "nbconvert_exporter": "python",
   "pygments_lexer": "ipython3",
   "version": "3.10.4"
  },
  "varInspector": {
   "cols": {
    "lenName": 16,
    "lenType": 16,
    "lenVar": 40
   },
   "kernels_config": {
    "python": {
     "delete_cmd_postfix": "",
     "delete_cmd_prefix": "del ",
     "library": "var_list.py",
     "varRefreshCmd": "print(var_dic_list())"
    },
    "r": {
     "delete_cmd_postfix": ") ",
     "delete_cmd_prefix": "rm(",
     "library": "var_list.r",
     "varRefreshCmd": "cat(var_dic_list()) "
    }
   },
   "types_to_exclude": [
    "module",
    "function",
    "builtin_function_or_method",
    "instance",
    "_Feature"
   ],
   "window_display": false
  }
 },
 "nbformat": 4,
 "nbformat_minor": 4
}
