{
 "cells": [
  {
   "cell_type": "markdown",
   "metadata": {},
   "source": [
    "# Color quantization & first evaluation of color histogram classifier"
   ]
  },
  {
   "cell_type": "markdown",
   "metadata": {},
   "source": [
    "## Loading the data"
   ]
  },
  {
   "cell_type": "code",
   "execution_count": 2,
   "metadata": {},
   "outputs": [],
   "source": [
    "import numpy as np\n",
    "import cv2 as cv\n",
    "import matplotlib.pyplot as plt\n",
    "import os\n",
    "from ipywidgets import interact\n",
    "import ipywidgets as widgets\n",
    "\n",
    "from dobble_master_race.toolkit import get_data_set"
   ]
  },
  {
   "cell_type": "code",
   "execution_count": 3,
   "metadata": {},
   "outputs": [
    {
     "data": {
      "text/plain": [
       "((285,), (285,))"
      ]
     },
     "execution_count": 3,
     "metadata": {},
     "output_type": "execute_result"
    }
   ],
   "source": [
    "X, Y = get_data_set()\n",
    "X.shape, Y.shape"
   ]
  },
  {
   "cell_type": "markdown",
   "metadata": {},
   "source": [
    "# Utils"
   ]
  },
  {
   "cell_type": "code",
   "execution_count": 4,
   "metadata": {},
   "outputs": [],
   "source": [
    "def evaluate_classifier(clf, X, Y):\n",
    "    val_dict = cross_validate(clf, X, Y, cv=5, return_estimator=True)\n",
    "    scores = val_dict[\"test_score\"]\n",
    "    estimators = val_dict[\"estimator\"]\n",
    "    \n",
    "    return scores, estimators, estimators[np.argmax(scores)]"
   ]
  },
  {
   "cell_type": "code",
   "execution_count": 5,
   "metadata": {},
   "outputs": [],
   "source": [
    "def evaluate_classifiers(clfs, X, Y):\n",
    "    estimators = []\n",
    "    scores = []\n",
    "    best_estimators = []\n",
    "    \n",
    "    for clf in clfs:\n",
    "        val_dict = cross_validate(clf, X, Y, cv=5, return_estimator=True)\n",
    "        estimators.append(val_dict[\"estimator\"])\n",
    "        scores.append(val_dict[\"test_score\"])\n",
    "        best_estimators.append(estimators[-1][np.argmax(scores[-1])])\n",
    "\n",
    "    return scores, estimators, best_estimators"
   ]
  },
  {
   "cell_type": "code",
   "execution_count": 32,
   "metadata": {},
   "outputs": [],
   "source": [
    "def optimize_feature_dim(feature, dim_range, classifiers, classifiers_names, ax=None):\n",
    "    perfs = [[] for _ in classifiers]\n",
    "    for sub_feature in feature:\n",
    "        scores, _, _, = evaluate_classifiers(classifiers, sub_feature, Y)\n",
    "        for i, cross_score in enumerate(scores):\n",
    "            perfs[i].append(np.mean(cross_score))\n",
    "    if ax is not None:\n",
    "        for name, perf in zip(classifiers_names, perfs):\n",
    "            ax.plot(dim_range, perf, label=name)\n",
    "        ax.legend(loc=\"lower right\")\n",
    "        if issubclass(type(ax), plt.Axes):\n",
    "            ax.set_xlabel(\"Dimension de la feature\")\n",
    "            ax.set_ylabel(\"Score\")\n",
    "        else:\n",
    "            ax.xlabel(\"Dimension de la feature\")\n",
    "            ax.ylabel(\"Score\")\n",
    "    return {name: (perf.index(max(perf)) + dim_range[0], max(perf))\n",
    "            for name, perf in zip(classifiers_names, perfs)}"
   ]
  },
  {
   "cell_type": "code",
   "execution_count": 7,
   "metadata": {},
   "outputs": [],
   "source": [
    "import pandas as pd\n",
    "import seaborn as sn\n",
    "\n",
    "def print_confusion_matrix(predicted: np.array, actual: np.array) -> None:\n",
    "    plt.figure(figsize=(11, 10))\n",
    "    confusion_matrix = pd.crosstab(actual, predicted, rownames=['Actual'], colnames=['Predicted'], margins=True)\n",
    "    plt.tick_params(axis='both', which='major', labelsize=10, labelbottom=True, bottom=True, top=True, labeltop=True)\n",
    "    sn.heatmap(confusion_matrix, annot=True, vmax=np.max(confusion_matrix.max()[:-1]))\n",
    "    plt.show()"
   ]
  },
  {
   "cell_type": "code",
   "execution_count": 8,
   "metadata": {},
   "outputs": [],
   "source": [
    "from sklearn.neighbors import KNeighborsClassifier\n",
    "from sklearn.ensemble import RandomForestClassifier\n",
    "from sklearn.svm import SVC\n",
    "from sklearn.dummy import DummyClassifier\n",
    "\n",
    "from sklearn.model_selection import cross_validate\n",
    "classifiers = [SVC(), KNeighborsClassifier(), RandomForestClassifier(), DummyClassifier(strategy='uniform')]"
   ]
  },
  {
   "cell_type": "markdown",
   "metadata": {},
   "source": [
    "## What the data looks like ?"
   ]
  },
  {
   "cell_type": "code",
   "execution_count": 9,
   "metadata": {},
   "outputs": [
    {
     "data": {
      "application/vnd.jupyter.widget-view+json": {
       "model_id": "24f845f8912d497488aae2f27f2c07ea",
       "version_major": 2,
       "version_minor": 0
      },
      "text/plain": [
       "interactive(children=(BoundedIntText(value=1, description='class_', max=57, min=1), Output()), _dom_classes=('…"
      ]
     },
     "metadata": {},
     "output_type": "display_data"
    }
   ],
   "source": [
    "nb_class = np.max(Y)\n",
    "\n",
    "@interact(class_=widgets.BoundedIntText(min=1, max=nb_class))\n",
    "def print_class(class_: int) -> None:\n",
    "    _, ax_arr = plt.subplots(nrows=1, ncols=5, figsize=(12,4))\n",
    "    for i, x in enumerate(X[Y == class_]):\n",
    "        ax_arr[i].imshow(x)"
   ]
  },
  {
   "cell_type": "markdown",
   "metadata": {},
   "source": [
    "## Image mask"
   ]
  },
  {
   "cell_type": "code",
   "execution_count": 10,
   "metadata": {},
   "outputs": [
    {
     "data": {
      "application/vnd.jupyter.widget-view+json": {
       "model_id": "71b3e073b30c4bfe84b2a11cb5e75c27",
       "version_major": 2,
       "version_minor": 0
      },
      "text/plain": [
       "interactive(children=(BoundedIntText(value=1, description='class_', max=57, min=1), Output()), _dom_classes=('…"
      ]
     },
     "metadata": {},
     "output_type": "display_data"
    }
   ],
   "source": [
    "gray_threshold = 245\n",
    "\n",
    "masks = np.array([\n",
    "    np.array(img.sum(axis=-1) < (gray_threshold * 3),\n",
    "             dtype=np.uint8)\n",
    "    for img in X\n",
    "], dtype=object)\n",
    "\n",
    "@interact(class_=widgets.BoundedIntText(min=1, max=nb_class))\n",
    "def print_class(class_: int) -> None:\n",
    "    _, ax_arr = plt.subplots(nrows=1, ncols=5, figsize=(12,4))\n",
    "    for i, mask in enumerate(masks[Y == class_]):\n",
    "        ax_arr[i].imshow(mask, cmap='gray')"
   ]
  },
  {
   "cell_type": "markdown",
   "metadata": {},
   "source": [
    "## Compute Hu Moments"
   ]
  },
  {
   "cell_type": "code",
   "execution_count": 11,
   "metadata": {},
   "outputs": [
    {
     "data": {
      "application/vnd.jupyter.widget-view+json": {
       "model_id": "a2e7f4addca34af8a00c3e5bbf28ade9",
       "version_major": 2,
       "version_minor": 0
      },
      "text/plain": [
       "interactive(children=(BoundedIntText(value=1, description='class_', max=57, min=1), Output()), _dom_classes=('…"
      ]
     },
     "metadata": {},
     "output_type": "display_data"
    }
   ],
   "source": [
    "moments = np.array([cv.moments(mask, binaryImage=True) for mask in masks])\n",
    "hu_moments = np.array([cv.HuMoments(mask_moments) for mask_moments in moments])\n",
    "hu_moments = hu_moments.reshape(285, 7)\n",
    "\n",
    "@interact(class_=widgets.BoundedIntText(min=1, max=nb_class))\n",
    "def print_class(class_: int) -> None:\n",
    "    _, ax_arr = plt.subplots(nrows=1, ncols=5, figsize=(12,4))\n",
    "    class_moments = hu_moments[Y == class_]\n",
    "    for i, mask in enumerate(masks[Y == class_]):\n",
    "        ax_arr[i].imshow(mask, cmap='gray')\n",
    "        ax_arr[i].axis(\"off\")\n",
    "        ax_arr[i].set_title(\"Order 0 moments:\\n{}\".format(np.round(class_moments[i][0], 2)))"
   ]
  },
  {
   "cell_type": "markdown",
   "metadata": {},
   "source": [
    "## Classify classes with Hu Moments"
   ]
  },
  {
   "cell_type": "code",
   "execution_count": 12,
   "metadata": {},
   "outputs": [
    {
     "name": "stdout",
     "output_type": "stream",
     "text": [
      "SVC scores: [0.9122807  0.92982456 0.94736842 0.85964912 0.92982456]\n",
      "KNeighborsClassifier scores: [0.92982456 0.9122807  0.94736842 0.9122807  0.92982456]\n",
      "RandomForestClassifier scores: [0.98245614 1.         1.         1.         1.        ]\n",
      "DummyClassifier scores: [0.01754386 0.01754386 0.01754386 0.         0.        ]\n"
     ]
    }
   ],
   "source": [
    "scores, _, best_estimators = evaluate_classifiers(classifiers, hu_moments, Y)\n",
    "\n",
    "for clf, scs in zip(classifiers, scores):\n",
    "    print(f\"{type(clf).__name__} scores:\", scs)\n",
    "\n",
    "best_svc, best_knn, best_rnd, best_dummy = best_estimators"
   ]
  },
  {
   "cell_type": "markdown",
   "metadata": {},
   "source": [
    "We can see that classifiers gives us really good results, this is because Hu moments are:\n",
    "- Invariant to scale\n",
    "- Invariant to rotation\n",
    "- Invariant to translation\n",
    "- Deterministic\n",
    "- Compact"
   ]
  },
  {
   "cell_type": "code",
   "execution_count": 34,
   "metadata": {},
   "outputs": [
    {
     "name": "stdout",
     "output_type": "stream",
     "text": [
      "{'SVC': (3, 0.9157894736842105), 'KNN': (3, 0.9263157894736841), 'Random forest': (4, 0.9964912280701753)}\n"
     ]
    },
    {
     "data": {
      "image/png": "[encoded data removed]",
      "text/plain": [
       "<Figure size 432x288 with 1 Axes>"
      ]
     },
     "metadata": {
      "needs_background": "light"
     },
     "output_type": "display_data"
    }
   ],
   "source": [
    "feature = [np.array(hu_moments[:, :i]) for i in range(1, 8)]\n",
    "best_dims = optimize_feature_dim(feature, range(1, 8), classifiers[:-1], [\"SVC\", \"KNN\", \"Random forest\"], plt)\n",
    "print(best_dims)"
   ]
  },
  {
   "cell_type": "markdown",
   "metadata": {},
   "source": [
    "## Compute Aspect Ratios (AR)\n",
    "\n",
    "Aspect Ratios (AR) are computed by finding the oriented bounding box of the mask and computing this formula:\n",
    "\n",
    "$$\n",
    "  Aspect\\,ratio = \\frac{Largest\\,dimension}{Smallest\\,dimension}\n",
    "$$"
   ]
  },
  {
   "cell_type": "code",
   "execution_count": 57,
   "metadata": {},
   "outputs": [
    {
     "name": "stdout",
     "output_type": "stream",
     "text": [
      "Aspect ratios (width / height):\n"
     ]
    },
    {
     "data": {
      "application/vnd.jupyter.widget-view+json": {
       "model_id": "e0e42151b048473283a3190034fe6f26",
       "version_major": 2,
       "version_minor": 0
      },
      "text/plain": [
       "interactive(children=(BoundedIntText(value=1, description='class_', max=57, min=1), Output()), _dom_classes=('…"
      ]
     },
     "metadata": {},
     "output_type": "display_data"
    }
   ],
   "source": [
    "contours = np.array(\n",
    "    [cv.findContours(mask, cv.RETR_TREE, cv.CHAIN_APPROX_SIMPLE)[0] for mask in masks],\n",
    "    dtype=object)\n",
    "bounding_rects = np.array([cv.minAreaRect(max(contour, key=lambda c: cv.contourArea(c))) for contour in contours], dtype=object)\n",
    "aspect_ratios = np.array([max(rect[1]) / min(rect[1]) for rect in bounding_rects])\n",
    "\n",
    "print(\"Aspect ratios (width / height):\")\n",
    "offset = 15\n",
    "@interact(class_=widgets.BoundedIntText(min=1, max=nb_class))\n",
    "def print_class(class_: int) -> None:\n",
    "    _, ax_arr = plt.subplots(nrows=1, ncols=5, figsize=(12,4))\n",
    "    class_rects = bounding_rects[Y == class_]\n",
    "    class_ratios = aspect_ratios[Y == class_].reshape(5)\n",
    "    for i, mask in enumerate(masks[Y == class_]):\n",
    "        to_show = cv.copyMakeBorder(mask * 255, offset, offset, offset,\n",
    "                                    offset, cv.BORDER_CONSTANT, value=0)\n",
    "        to_show = cv.cvtColor(to_show, cv.COLOR_GRAY2RGB)\n",
    "        box = [np.int0(cv.boxPoints(class_rects[i]))]\n",
    "        cv.drawContours(to_show, box, -1, (0, 200, 0), offset=(offset, offset), thickness=3)\n",
    "        ax_arr[i].imshow(to_show)\n",
    "        ax_arr[i].axis(\"off\")\n",
    "        ax_arr[i].set_title(\"AR = {}\".format((round(class_ratios[i], 2))))\n",
    "        \n",
    "aspect_ratios = aspect_ratios.reshape(-1, 1);"
   ]
  },
  {
   "cell_type": "markdown",
   "metadata": {},
   "source": [
    "## Classify classes with Aspect Ratios"
   ]
  },
  {
   "cell_type": "code",
   "execution_count": 59,
   "metadata": {},
   "outputs": [
    {
     "name": "stdout",
     "output_type": "stream",
     "text": [
      "SVC scores: [0.64912281 0.54385965 0.63157895 0.56140351 0.68421053]\n",
      "KNeighborsClassifier scores: [0.61403509 0.59649123 0.59649123 0.56140351 0.63157895]\n",
      "RandomForestClassifier scores: [0.61403509 0.56140351 0.59649123 0.54385965 0.56140351]\n",
      "DummyClassifier scores: [0.         0.         0.         0.03508772 0.        ]\n"
     ]
    }
   ],
   "source": [
    "scores, _, best_estimators = evaluate_classifiers(classifiers, aspect_ratios, Y)\n",
    "\n",
    "for clf, scs in zip(classifiers, scores):\n",
    "    print(f\"{type(clf).__name__} scores:\", scs)\n",
    "\n",
    "best_svc, best_knn, best_rnd, best_dummy = best_estimators"
   ]
  },
  {
   "cell_type": "code",
   "execution_count": 60,
   "metadata": {},
   "outputs": [
    {
     "data": {
      "image/png": "[encoded data removed]",
      "text/plain": [
       "<Figure size 792x720 with 2 Axes>"
      ]
     },
     "metadata": {
      "needs_background": "light"
     },
     "output_type": "display_data"
    }
   ],
   "source": [
    "print_confusion_matrix(best_svc.predict(aspect_ratios), Y)"
   ]
  },
  {
   "cell_type": "markdown",
   "metadata": {},
   "source": [
    "By looking at the confusion matrix we can see that classifiers are really struggling on certain classes.<br>\n",
    "Let's take a look at classes 3 and 52:<br><br>\n",
    "> **Class 3:**![notebook_resources/class_3_aspect_ratios.png](notebook_resources/class_3_aspect_ratios.png \"class 3\")<br>\n",
    "**Class 52:**![notebook_resources/class_52_aspect_ratios.png](notebook_resources/class_52_aspect_ratios.png \"class 52\")<br>\n",
    "We understand that the aspect ratio is not deterministic for images with same proportions.<br> This is therefore a pretty bad descriptor for our problem."
   ]
  }
 ],
 "metadata": {
  "celltoolbar": "Tags",
  "hide_input": false,
  "kernelspec": {
   "display_name": "Python 3 (ipykernel)",
   "language": "python",
   "name": "python3"
  },
  "language_info": {
   "codemirror_mode": {
    "name": "ipython",
    "version": 3
   },
   "file_extension": ".py",
   "mimetype": "text/x-python",
   "name": "python",
   "nbconvert_exporter": "python",
   "pygments_lexer": "ipython3",
   "version": "3.10.4"
  },
  "varInspector": {
   "cols": {
    "lenName": 16,
    "lenType": 16,
    "lenVar": 40
   },
   "kernels_config": {
    "python": {
     "delete_cmd_postfix": "",
     "delete_cmd_prefix": "del ",
     "library": "var_list.py",
     "varRefreshCmd": "print(var_dic_list())"
    },
    "r": {
     "delete_cmd_postfix": ") ",
     "delete_cmd_prefix": "rm(",
     "library": "var_list.r",
     "varRefreshCmd": "cat(var_dic_list()) "
    }
   },
   "types_to_exclude": [
    "module",
    "function",
    "builtin_function_or_method",
    "instance",
    "_Feature"
   ],
   "window_display": false
  }
 },
 "nbformat": 4,
 "nbformat_minor": 4
}
