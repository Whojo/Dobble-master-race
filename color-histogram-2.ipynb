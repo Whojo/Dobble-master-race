{
 "cells": [
  {
   "cell_type": "code",
   "execution_count": null,
   "metadata": {},
   "outputs": [],
   "source": [
    "seed = 7\n",
    "kmean = sklearn.cluster.KMeans(57, random_state=seed)\n",
    "\n",
    "h_inertias = []\n",
    "for i in range(1, nb_class):\n",
    "    kmeans = KMeans(n_clusters=i, random_state=seed)\n",
    "    kmeans.fit(color_histograms)\n",
    "    h_inertias.append(kmeans.inertia_)"
   ]
  },
  {
   "cell_type": "code",
   "execution_count": null,
   "metadata": {
    "scrolled": true
   },
   "outputs": [
    {
     "data": {
      "image/png": "[encoded data removed]",
      "text/plain": [
       "<Figure size 720x360 with 2 Axes>"
      ]
     },
     "metadata": {
      "needs_background": "light"
     },
     "output_type": "display_data"
    }
   ],
   "source": [
    "_, ax_arr = plt.subplots(nrows=1, ncols=2, figsize=(10, 5))\n",
    "ax_arr[0].plot(range(1,nb_class), h_inertias)\n",
    "ax_arr[1].plot(range(5,20), h_inertias[5:20])\n",
    "nb_wanted_classes = 13"
   ]
  },
  {
   "cell_type": "markdown",
   "metadata": {},
   "source": [
    "We see that inertia decrease way slower when the number of clusters becomes higher than 6, by zooming in that area we decided to take 13 clusters."
   ]
  },
  {
   "cell_type": "code",
   "execution_count": 24,
   "metadata": {},
   "outputs": [],
   "source": [
    "kmean = sklearn.cluster.KMeans(nb_wanted_classes, random_state=seed)\n",
    "kmean.fit(color_histograms)\n",
    "predictions = kmean.predict(color_histograms)"
   ]
  },
  {
   "cell_type": "code",
   "execution_count": 25,
   "metadata": {},
   "outputs": [
    {
     "data": {
      "application/vnd.jupyter.widget-view+json": {
       "model_id": "3257d4e95ef744179c0559ebf9fbed14",
       "version_major": 2,
       "version_minor": 0
      },
      "text/plain": [
       "interactive(children=(BoundedIntText(value=1, description='class_', max=12, min=1), Output()), _dom_classes=('…"
      ]
     },
     "metadata": {},
     "output_type": "display_data"
    }
   ],
   "source": [
    "@interact(class_=widgets.BoundedIntText(min=1, max=nb_wanted_classes - 1))\n",
    "def print_class(class_: int) -> None:\n",
    "    cluster_mask = predictions == class_\n",
    "    nb_images = np.sum(cluster_mask)\n",
    "    if (nb_images == 0):\n",
    "        print(\"Aucune image pour ce cluster.\")\n",
    "        return\n",
    "\n",
    "    nb_rows = (nb_images + 4) // 5\n",
    "    _, ax_arr = plt.subplots(nrows=max(nb_rows, 2), ncols=5, figsize=(10, 2 * nb_rows))\n",
    "    for i, x in enumerate(X[np.where(cluster_mask)[0]]):\n",
    "        ax_arr[i // 5, i % 5].axis(\"off\")\n",
    "        ax_arr[i // 5, i % 5].imshow(x)\n",
    "\n",
    "    for i in range(5):\n",
    "        ax_arr[-1, i].axis(\"off\")\n"
   ]
  }
 ],
 "metadata": {
  "celltoolbar": "Tags",
  "hide_input": false,
  "kernelspec": {
   "display_name": "Python 3 (ipykernel)",
   "language": "python",
   "name": "python3"
  },
  "language_info": {
   "codemirror_mode": {
    "name": "ipython",
    "version": 3
   },
   "file_extension": ".py",
   "mimetype": "text/x-python",
   "name": "python",
   "nbconvert_exporter": "python",
   "pygments_lexer": "ipython3",
   "version": "3.10.4"
  },
  "varInspector": {
   "cols": {
    "lenName": 16,
    "lenType": 16,
    "lenVar": 40
   },
   "kernels_config": {
    "python": {
     "delete_cmd_postfix": "",
     "delete_cmd_prefix": "del ",
     "library": "var_list.py",
     "varRefreshCmd": "print(var_dic_list())"
    },
    "r": {
     "delete_cmd_postfix": ") ",
     "delete_cmd_prefix": "rm(",
     "library": "var_list.r",
     "varRefreshCmd": "cat(var_dic_list()) "
    }
   },
   "types_to_exclude": [
    "module",
    "function",
    "builtin_function_or_method",
    "instance",
    "_Feature"
   ],
   "window_display": false
  }
 },
 "nbformat": 4,
 "nbformat_minor": 4
}
